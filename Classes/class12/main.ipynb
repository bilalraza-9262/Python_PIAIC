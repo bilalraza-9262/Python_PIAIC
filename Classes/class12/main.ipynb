{
 "cells": [
  {
   "cell_type": "markdown",
   "metadata": {},
   "source": [
    "## CLASSES IN PYTHON\n"
   ]
  },
  {
   "cell_type": "code",
   "execution_count": 4,
   "metadata": {},
   "outputs": [
    {
     "data": {
      "text/plain": [
       "True"
      ]
     },
     "execution_count": 4,
     "metadata": {},
     "output_type": "execute_result"
    }
   ],
   "source": [
    "class VideoModel:\n",
    "    file = \"image.png\"\n",
    "\n",
    "\n",
    "obj1 = VideoModel()\n",
    "\n",
    "isinstance(obj1, VideoModel)"
   ]
  },
  {
   "cell_type": "code",
   "execution_count": 9,
   "metadata": {},
   "outputs": [
    {
     "name": "stdout",
     "output_type": "stream",
     "text": [
      "<class 'type'>\n"
     ]
    },
    {
     "data": {
      "text/plain": [
       "['__class__',\n",
       " '__delattr__',\n",
       " '__dict__',\n",
       " '__dir__',\n",
       " '__doc__',\n",
       " '__eq__',\n",
       " '__format__',\n",
       " '__ge__',\n",
       " '__getattribute__',\n",
       " '__getstate__',\n",
       " '__gt__',\n",
       " '__hash__',\n",
       " '__init__',\n",
       " '__init_subclass__',\n",
       " '__le__',\n",
       " '__lt__',\n",
       " '__module__',\n",
       " '__ne__',\n",
       " '__new__',\n",
       " '__reduce__',\n",
       " '__reduce_ex__',\n",
       " '__repr__',\n",
       " '__setattr__',\n",
       " '__sizeof__',\n",
       " '__str__',\n",
       " '__subclasshook__',\n",
       " '__weakref__',\n",
       " 'file']"
      ]
     },
     "execution_count": 9,
     "metadata": {},
     "output_type": "execute_result"
    }
   ],
   "source": [
    "class VideoModel:\n",
    "    file = \"image.png\"\n",
    "\n",
    "\n",
    "obj1 = VideoModel()\n",
    "\n",
    "isinstance(obj1, VideoModel)\n",
    "print(type(VideoModel))\n",
    "dir(VideoModel)"
   ]
  },
  {
   "cell_type": "code",
   "execution_count": 8,
   "metadata": {},
   "outputs": [
    {
     "data": {
      "text/plain": [
       "['__add__',\n",
       " '__class__',\n",
       " '__contains__',\n",
       " '__delattr__',\n",
       " '__dir__',\n",
       " '__doc__',\n",
       " '__eq__',\n",
       " '__format__',\n",
       " '__ge__',\n",
       " '__getattribute__',\n",
       " '__getitem__',\n",
       " '__getnewargs__',\n",
       " '__getstate__',\n",
       " '__gt__',\n",
       " '__hash__',\n",
       " '__init__',\n",
       " '__init_subclass__',\n",
       " '__iter__',\n",
       " '__le__',\n",
       " '__len__',\n",
       " '__lt__',\n",
       " '__mod__',\n",
       " '__mul__',\n",
       " '__ne__',\n",
       " '__new__',\n",
       " '__reduce__',\n",
       " '__reduce_ex__',\n",
       " '__repr__',\n",
       " '__rmod__',\n",
       " '__rmul__',\n",
       " '__setattr__',\n",
       " '__sizeof__',\n",
       " '__str__',\n",
       " '__subclasshook__',\n",
       " 'capitalize',\n",
       " 'casefold',\n",
       " 'center',\n",
       " 'count',\n",
       " 'encode',\n",
       " 'endswith',\n",
       " 'expandtabs',\n",
       " 'find',\n",
       " 'format',\n",
       " 'format_map',\n",
       " 'index',\n",
       " 'isalnum',\n",
       " 'isalpha',\n",
       " 'isascii',\n",
       " 'isdecimal',\n",
       " 'isdigit',\n",
       " 'isidentifier',\n",
       " 'islower',\n",
       " 'isnumeric',\n",
       " 'isprintable',\n",
       " 'isspace',\n",
       " 'istitle',\n",
       " 'isupper',\n",
       " 'join',\n",
       " 'ljust',\n",
       " 'lower',\n",
       " 'lstrip',\n",
       " 'maketrans',\n",
       " 'partition',\n",
       " 'removeprefix',\n",
       " 'removesuffix',\n",
       " 'replace',\n",
       " 'rfind',\n",
       " 'rindex',\n",
       " 'rjust',\n",
       " 'rpartition',\n",
       " 'rsplit',\n",
       " 'rstrip',\n",
       " 'split',\n",
       " 'splitlines',\n",
       " 'startswith',\n",
       " 'strip',\n",
       " 'swapcase',\n",
       " 'title',\n",
       " 'translate',\n",
       " 'upper',\n",
       " 'zfill']"
      ]
     },
     "execution_count": 8,
     "metadata": {},
     "output_type": "execute_result"
    }
   ],
   "source": [
    "dir(\"b\")"
   ]
  },
  {
   "cell_type": "code",
   "execution_count": 6,
   "metadata": {},
   "outputs": [
    {
     "name": "stdout",
     "output_type": "stream",
     "text": [
      "Hello World\n",
      "Hello World\n",
      "Htv\n",
      "bilal\n",
      "image\n",
      "video\n"
     ]
    }
   ],
   "source": [
    "class VideoModel:\n",
    "    file = \"image\"  # class attribute\n",
    "\n",
    "    def __init__(self,):\n",
    "        self.channel_name = \"bilal\"\n",
    "        self.channelVideos = \"Python\"\n",
    "\n",
    "        print(\"Hello World\")\n",
    "\n",
    "\n",
    "obj1 = VideoModel()\n",
    "obj1.channel_name = \"Htv\"\n",
    "\n",
    "obj2 = VideoModel()\n",
    "print(obj1.channel_name)\n",
    "print(obj2.channel_name)\n",
    "print(VideoModel.file)\n",
    "VideoModel.file = \"video\"\n",
    "print(obj1.file)"
   ]
  },
  {
   "cell_type": "markdown",
   "metadata": {},
   "source": [
    "class Man:\n",
    "name = \"bilal\"\n",
    "def **init**(self, m_name: str) -> None:\n",
    "self.name = m_name\n",
    "\n",
    "obj3 = Man(\"Sakib\")  \n",
    "obj3.name\n",
    "obj3.**dict**\n"
   ]
  },
  {
   "cell_type": "code",
   "execution_count": 19,
   "metadata": {},
   "outputs": [
    {
     "data": {
      "text/plain": [
       "True"
      ]
     },
     "execution_count": 19,
     "metadata": {},
     "output_type": "execute_result"
    }
   ],
   "source": [
    "#\n",
    "class Man:\n",
    "    name = \"bilal\"\n",
    "\n",
    "\n",
    "Man()\n",
    "\n",
    "isinstance(Man, type)"
   ]
  },
  {
   "cell_type": "code",
   "execution_count": 16,
   "metadata": {},
   "outputs": [
    {
     "data": {
      "text/plain": [
       "'bilal'"
      ]
     },
     "execution_count": 16,
     "metadata": {},
     "output_type": "execute_result"
    }
   ],
   "source": [
    "student = {\n",
    "    \"name\": \"bilal\"\n",
    "}\n",
    "student[\"name\"]"
   ]
  },
  {
   "cell_type": "markdown",
   "metadata": {},
   "source": [
    "## Methods in classes\n"
   ]
  },
  {
   "cell_type": "markdown",
   "metadata": {},
   "source": []
  },
  {
   "cell_type": "code",
   "execution_count": 32,
   "metadata": {},
   "outputs": [
    {
     "name": "stdout",
     "output_type": "stream",
     "text": [
      "You have created Video Model...\n",
      "You have add class1.mp4 video\n"
     ]
    },
    {
     "data": {
      "text/plain": [
       "['class1.mp4']"
      ]
     },
     "execution_count": 32,
     "metadata": {},
     "output_type": "execute_result"
    }
   ],
   "source": [
    "channels_list = [\n",
    "    {\"channelName\": \"bcoding\", \"channelId\": \"b123\"},\n",
    "    {\"channelName\": \"hcoding\", \"channelId\": \"h123\"},\n",
    "    {\"channelName\": \"acoding\", \"channelId\": \"a123\"}\n",
    "]\n",
    "\n",
    "video_files = []\n",
    "class VideoModel:\n",
    "    file = \"image\"  # class attribute\n",
    "\n",
    "    def __init__(self, channelName: str, channelId: str):\n",
    "        for chn in channels_list:\n",
    "            if chn['channelName'] == channelName and chn['channelId'] ==channelId:\n",
    "                print(\"You have created Video Model...\")\n",
    "                break\n",
    "            \n",
    "    def create_video(self, v_file: str):\n",
    "        video_files.append(v_file)\n",
    "        print(f\"You have add {v_file} video\")\n",
    "         \n",
    "\n",
    "obj1 = VideoModel(\"bcoding\",\"b123\")\n",
    "obj1.create_video(\"class1.mp4\")\n",
    "video_files"
   ]
  },
  {
   "cell_type": "code",
   "execution_count": 35,
   "metadata": {},
   "outputs": [
    {
     "name": "stdout",
     "output_type": "stream",
     "text": [
      "You have created Video Model...\n",
      "You have add class3.mpy video\n"
     ]
    },
    {
     "data": {
      "text/plain": [
       "['class1.mp4', 'class3.mpy', 'class3.mpy', 'class3.mpy']"
      ]
     },
     "execution_count": 35,
     "metadata": {},
     "output_type": "execute_result"
    }
   ],
   "source": [
    "obj3 = VideoModel(\"hcoding\",\"h123\")\n",
    "obj3.create_video(\"class3.mpy\")\n",
    "video_files"
   ]
  },
  {
   "cell_type": "code",
   "execution_count": 45,
   "metadata": {},
   "outputs": [
    {
     "name": "stdout",
     "output_type": "stream",
     "text": [
      "Parent Called! Urdu\n",
      "you are speaking abc\n"
     ]
    }
   ],
   "source": [
    "class Parent:\n",
    "    language = \"Urdu\"\n",
    "    def __init__(self, lang) -> None:\n",
    "        self.language = lang\n",
    "        print(\"Parent Called!\", self.language)\n",
    "        \n",
    "    def speak(self, chr):\n",
    "        print(f\"you are speaking {chr}\")\n",
    "        \n",
    "class Child(Parent):\n",
    "    def __init__(self, language) -> None:\n",
    "        super().__init__(language)\n",
    "    \n",
    "chl1 = Child(\"Urdu\")\n",
    "chl1.speak(\"abc\")          "
   ]
  },
  {
   "cell_type": "code",
   "execution_count": null,
   "metadata": {},
   "outputs": [],
   "source": []
  }
 ],
 "metadata": {
  "kernelspec": {
   "display_name": "python12",
   "language": "python",
   "name": "python3"
  },
  "language_info": {
   "codemirror_mode": {
    "name": "ipython",
    "version": 3
   },
   "file_extension": ".py",
   "mimetype": "text/x-python",
   "name": "python",
   "nbconvert_exporter": "python",
   "pygments_lexer": "ipython3",
   "version": "3.12.0"
  }
 },
 "nbformat": 4,
 "nbformat_minor": 2
}
