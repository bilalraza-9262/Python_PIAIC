{
 "cells": [
  {
   "cell_type": "markdown",
   "metadata": {},
   "source": [
    "# Set in Python"
   ]
  },
  {
   "cell_type": "code",
   "execution_count": 45,
   "metadata": {},
   "outputs": [
    {
     "name": "stdout",
     "output_type": "stream",
     "text": [
      "2\n",
      "{1, 2, 3, 5, 9}\n",
      "{1, 2, 3, 5, 9}\n",
      "Intersection {1, 2, 3, 5}\n",
      "Intersection 2nd {1, 2, 3, 5}\n",
      "Difference {9}\n",
      "Difference 2nd {9}\n",
      "Union {1, 2, 3, 5, 6, 7, 9}\n",
      "Union 2nd {1, 2, 3, 5, 6, 7, 9}\n",
      "Symmetric  {6, 7, 9}\n",
      "Symmetric 2nd {6, 7, 9}\n",
      "set()\n"
     ]
    }
   ],
   "source": [
    "std_list:set={1,2,3,9}\n",
    "tea_list:set={1,2,3,5,6,7}\n",
    "std_list.add(5)\n",
    "\n",
    "for i in std_list:\n",
    "\tif i==2:\n",
    "\t\tprint(i)\n",
    "\n",
    "print(std_list)\t\t\n",
    "print(std_list)\n",
    "print(\"Intersection\" , std_list.intersection(tea_list))\n",
    "print(\"Intersection 2nd\" , std_list & tea_list)\n",
    "print(\"Difference\" , std_list.difference(tea_list))\n",
    "print(\"Difference 2nd\" , std_list - tea_list)\n",
    "print(\"Union\" , std_list.union(tea_list))\n",
    "print(\"Union 2nd\" , std_list | tea_list)\n",
    "print(\"Symmetric \" , std_list.symmetric_difference(tea_list))\n",
    "print(\"Symmetric 2nd\" , std_list ^ tea_list)\n",
    "# print(std_list.pop()) # change real data\n",
    "# std_list.clear()\n",
    "# print(std_list)\n",
    "std_list.update([9,10])\n",
    "print\n",
    "std_list.discard(3) #change real data\n",
    "print(\"Maximum\" , max(std_list))\n",
    "print(\"Minimum\" , min(std_list))\n",
    "print(\"Sum\" , sum(std_list))\n",
    "print(len(std_list))\n",
    "print(\"Update\" , std_list)\n",
    "print(tea_list)\n",
    "print(\"Subset\" , std_list.issubset(tea_list))\n",
    "print(\"Superset\" , std_list.issuperset(tea_list))\n",
    "print(type({}))"
   ]
  },
  {
   "cell_type": "code",
   "execution_count": 44,
   "metadata": {},
   "outputs": [
    {
     "name": "stdout",
     "output_type": "stream",
     "text": [
      "<class 'set'>\n"
     ]
    }
   ],
   "source": [
    "list1:set = set()\n",
    "print(type(list1))"
   ]
  }
 ],
 "metadata": {
  "kernelspec": {
   "display_name": "python12",
   "language": "python",
   "name": "python3"
  },
  "language_info": {
   "codemirror_mode": {
    "name": "ipython",
    "version": 3
   },
   "file_extension": ".py",
   "mimetype": "text/x-python",
   "name": "python",
   "nbconvert_exporter": "python",
   "pygments_lexer": "ipython3",
   "version": "3.12.0"
  }
 },
 "nbformat": 4,
 "nbformat_minor": 2
}
