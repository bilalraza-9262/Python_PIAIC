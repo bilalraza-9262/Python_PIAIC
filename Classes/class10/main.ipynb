{
 "cells": [
  {
   "cell_type": "code",
   "execution_count": 1,
   "metadata": {},
   "outputs": [
    {
     "ename": "Exception",
     "evalue": "Invalid number",
     "output_type": "error",
     "traceback": [
      "\u001b[1;31m---------------------------------------------------------------------------\u001b[0m",
      "\u001b[1;31mException\u001b[0m                                 Traceback (most recent call last)",
      "Cell \u001b[1;32mIn[1], line 3\u001b[0m\n\u001b[0;32m      1\u001b[0m num1 \u001b[38;5;241m=\u001b[39m \u001b[38;5;241m1\u001b[39m\n\u001b[0;32m      2\u001b[0m \u001b[38;5;28;01mif\u001b[39;00m num1\u001b[38;5;241m==\u001b[39m\u001b[38;5;241m1\u001b[39m:\n\u001b[1;32m----> 3\u001b[0m     \u001b[38;5;28;01mraise\u001b[39;00m \u001b[38;5;167;01mException\u001b[39;00m(\u001b[38;5;124m\"\u001b[39m\u001b[38;5;124mInvalid number\u001b[39m\u001b[38;5;124m\"\u001b[39m)\n",
      "\u001b[1;31mException\u001b[0m: Invalid number"
     ]
    }
   ],
   "source": [
    "num1 = 1\n",
    "if num1 == 1:\n",
    "    raise Exception(\"Invalid number\")"
   ]
  },
  {
   "cell_type": "code",
   "execution_count": 2,
   "metadata": {},
   "outputs": [
    {
     "ename": "ValueError",
     "evalue": "Invalid number",
     "output_type": "error",
     "traceback": [
      "\u001b[1;31m---------------------------------------------------------------------------\u001b[0m",
      "\u001b[1;31mValueError\u001b[0m                                Traceback (most recent call last)",
      "Cell \u001b[1;32mIn[2], line 3\u001b[0m\n\u001b[0;32m      1\u001b[0m num1 \u001b[38;5;241m=\u001b[39m \u001b[38;5;241m1\u001b[39m\n\u001b[0;32m      2\u001b[0m \u001b[38;5;28;01mif\u001b[39;00m num1\u001b[38;5;241m==\u001b[39m\u001b[38;5;241m1\u001b[39m:\n\u001b[1;32m----> 3\u001b[0m     \u001b[38;5;28;01mraise\u001b[39;00m \u001b[38;5;167;01mValueError\u001b[39;00m(\u001b[38;5;124m\"\u001b[39m\u001b[38;5;124mInvalid number\u001b[39m\u001b[38;5;124m\"\u001b[39m)\n",
      "\u001b[1;31mValueError\u001b[0m: Invalid number"
     ]
    }
   ],
   "source": [
    "num1 = 1\n",
    "if num1 == 1:\n",
    "    raise ValueError(\"Invalid number\")"
   ]
  },
  {
   "cell_type": "code",
   "execution_count": 4,
   "metadata": {},
   "outputs": [
    {
     "name": "stdout",
     "output_type": "stream",
     "text": [
      "3.0\n"
     ]
    }
   ],
   "source": [
    "try:\n",
    "    num2 = 3\n",
    "    print(num2/1)\n",
    "except:\n",
    "    print(\"Invalid number\")"
   ]
  },
  {
   "cell_type": "code",
   "execution_count": 5,
   "metadata": {},
   "outputs": [
    {
     "name": "stdout",
     "output_type": "stream",
     "text": [
      "Invalid number\n"
     ]
    }
   ],
   "source": [
    "try:\n",
    "    num2 = 3\n",
    "    print(num2/0)\n",
    "except:\n",
    "    print(\"Invalid number\")"
   ]
  },
  {
   "cell_type": "code",
   "execution_count": 6,
   "metadata": {},
   "outputs": [
    {
     "ename": "ZeroDivisionError",
     "evalue": "division by zero",
     "output_type": "error",
     "traceback": [
      "\u001b[1;31m---------------------------------------------------------------------------\u001b[0m",
      "\u001b[1;31mZeroDivisionError\u001b[0m                         Traceback (most recent call last)",
      "Cell \u001b[1;32mIn[6], line 1\u001b[0m\n\u001b[1;32m----> 1\u001b[0m \u001b[38;5;28mprint\u001b[39m(\u001b[43mnum2\u001b[49m\u001b[38;5;241;43m/\u001b[39;49m\u001b[38;5;241;43m0\u001b[39;49m)\n",
      "\u001b[1;31mZeroDivisionError\u001b[0m: division by zero"
     ]
    }
   ],
   "source": [
    "print(num2/0)"
   ]
  },
  {
   "cell_type": "code",
   "execution_count": 10,
   "metadata": {},
   "outputs": [
    {
     "name": "stdout",
     "output_type": "stream",
     "text": [
      "division by zero\n"
     ]
    }
   ],
   "source": [
    "try:\n",
    "    num2 = 3\n",
    "    print(num2/0)\n",
    "    print(\"Try\")\n",
    "except ZeroDivisionError as ze:\n",
    "    print(ze)"
   ]
  },
  {
   "cell_type": "code",
   "execution_count": 11,
   "metadata": {},
   "outputs": [
    {
     "name": "stdout",
     "output_type": "stream",
     "text": [
      "list index out of range\n"
     ]
    }
   ],
   "source": [
    "try:\n",
    "    num2 = 3\n",
    "    list1 = [1, 2, 3, 4]\n",
    "    print(list1[4])\n",
    "    print(num2/0)\n",
    "    print(\"Try\")\n",
    "except (ZeroDivisionError, IndexError) as ze:\n",
    "    print(ze)"
   ]
  },
  {
   "cell_type": "code",
   "execution_count": 13,
   "metadata": {},
   "outputs": [
    {
     "name": "stdout",
     "output_type": "stream",
     "text": [
      "list index out of range\n",
      "division by zero\n"
     ]
    }
   ],
   "source": [
    "try:\n",
    "    num2 = 3\n",
    "    list1 = [1, 2, 3, 4]\n",
    "    print(list1[4])\n",
    "\n",
    "    print(\"Try\")\n",
    "except (ZeroDivisionError, IndexError) as ie:\n",
    "    print(ie)\n",
    "    try:\n",
    "        print(num2/0)\n",
    "    except ZeroDivisionError as ze:\n",
    "        print(ze)"
   ]
  },
  {
   "cell_type": "code",
   "execution_count": 16,
   "metadata": {},
   "outputs": [
    {
     "name": "stdout",
     "output_type": "stream",
     "text": [
      "You have logged in\n"
     ]
    }
   ],
   "source": [
    "def signUp(user: str, password: str):\n",
    "    try:\n",
    "        if len(password) < 8:\n",
    "            raise ValueError(\"Password length must be 8 characters\")\n",
    "        else:\n",
    "            print(\"You have logged in\")\n",
    "    except ValueError as ve:\n",
    "        print(ve)\n",
    "\n",
    "\n",
    "signUp(\"bilal\", \"b12345344\")"
   ]
  },
  {
   "cell_type": "code",
   "execution_count": 64,
   "metadata": {},
   "outputs": [
    {
     "name": "stdout",
     "output_type": "stream",
     "text": [
      "You have logged in successfully\n",
      "Else\n",
      "finally\n"
     ]
    }
   ],
   "source": [
    "user_list: list[dict[str, str]] = [{\"name\": \"bilal\", \"pass\": \"b1234\"},\n",
    "                                   {\"name\": \"ahsaan\", \"pass\": \"ah1246\"}]\n",
    "\n",
    "def login(user_name: str, password: str):\n",
    "    try:\n",
    "        exist_user = filter(\n",
    "            lambda user: user[\"name\"] == user_name and user[\"pass\"] == password, user_list)\n",
    "        lenth = len(list(exist_user))\n",
    "        if lenth > 0:\n",
    "            print(\"You have logged in successfully\")\n",
    "        else:\n",
    "            raise Exception(\"You have entered wrong password or name\")\n",
    "    except Exception as e:\n",
    "        print(e)\n",
    "    else:\n",
    "        print(\"Else\")\n",
    "    finally:\n",
    "        print(\"finally\")\n",
    "\n",
    "\n",
    "login(\"bilal\", \"b1234\")\n",
    "# print([] == True)"
   ]
  },
  {
   "cell_type": "code",
   "execution_count": 30,
   "metadata": {},
   "outputs": [
    {
     "name": "stdout",
     "output_type": "stream",
     "text": [
      "1\n",
      "2\n",
      "3\n",
      "4\n",
      "5\n",
      "Stop Iteration \n"
     ]
    }
   ],
   "source": [
    "from typing import Generator, Any\n",
    "\n",
    "\n",
    "def users_list() -> Generator[int, Any, None]:\n",
    "    for num in [1, 2, 3, 4, 5]:\n",
    "        yield num\n",
    "\n",
    "\n",
    "users: Generator[int, Any, None] = users_list()\n",
    "try:\n",
    "    print(next(users))\n",
    "    print(next(users))\n",
    "    print(next(users))\n",
    "    print(next(users))\n",
    "    print(next(users))\n",
    "    print(next(users))\n",
    "except StopIteration as se:\n",
    "    print(\"Stop Iteration\", se)"
   ]
  },
  {
   "cell_type": "code",
   "execution_count": 45,
   "metadata": {},
   "outputs": [
    {
     "name": "stdout",
     "output_type": "stream",
     "text": [
      "Invalid number\n",
      "Finally is running.. \n"
     ]
    }
   ],
   "source": [
    "try:\n",
    "    print(2/0)\n",
    "except:\n",
    "    print(\"Invalid number\")\n",
    "else:\n",
    "    print(\"Else is running...\")\n",
    "finally:\n",
    "    print(\"Finally is running.. \")"
   ]
  },
  {
   "cell_type": "code",
   "execution_count": null,
   "metadata": {},
   "outputs": [],
   "source": []
  }
 ],
 "metadata": {
  "kernelspec": {
   "display_name": "python12",
   "language": "python",
   "name": "python3"
  },
  "language_info": {
   "codemirror_mode": {
    "name": "ipython",
    "version": 3
   },
   "file_extension": ".py",
   "mimetype": "text/x-python",
   "name": "python",
   "nbconvert_exporter": "python",
   "pygments_lexer": "ipython3",
   "version": "3.12.0"
  }
 },
 "nbformat": 4,
 "nbformat_minor": 2
}
