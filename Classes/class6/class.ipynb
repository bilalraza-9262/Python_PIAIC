{
 "cells": [
  {
   "cell_type": "markdown",
   "metadata": {},
   "source": []
  },
  {
   "cell_type": "markdown",
   "metadata": {},
   "source": [
    "# LOOP IN PYTHON"
   ]
  },
  {
   "cell_type": "code",
   "execution_count": 23,
   "metadata": {},
   "outputs": [
    {
     "data": {
      "text/plain": [
       "[{'Admin': ['bilal']},\n",
       " {'User': ['hammad']},\n",
       " {'not autthenticated': ['umer']},\n",
       " {'not log in': ['khizer']},\n",
       " {'not log in': ['huzair']}]"
      ]
     },
     "execution_count": 23,
     "metadata": {},
     "output_type": "execute_result"
    }
   ],
   "source": [
    "list1=[\"bilal\",\"hammad\",\"umer\",\"khizer\",\"huzair\"]\n",
    "[{\"Admin\":[i]} if i==\"bilal\" else {\"User\":[i]} if i==\"hammad\" else {\"not autthenticated\":[i]} if i==\"umer\" else {\"not log in\":[i]} for i in list1]\n"
   ]
  },
  {
   "cell_type": "code",
   "execution_count": 11,
   "metadata": {},
   "outputs": [
    {
     "name": "stdout",
     "output_type": "stream",
     "text": [
      "please log in\n"
     ]
    }
   ],
   "source": [
    "user =\"umer\"\n",
    "print(\"Admin\" if user==\"bilal\" else \"Not Admin\" if user ==\"hammad\" else \"please log in\" if  user==\"umer\" else \"You can not access this page\")"
   ]
  }
 ],
 "metadata": {
  "kernelspec": {
   "display_name": "python12",
   "language": "python",
   "name": "python3"
  },
  "language_info": {
   "codemirror_mode": {
    "name": "ipython",
    "version": 3
   },
   "file_extension": ".py",
   "mimetype": "text/x-python",
   "name": "python",
   "nbconvert_exporter": "python",
   "pygments_lexer": "ipython3",
   "version": "3.12.0"
  }
 },
 "nbformat": 4,
 "nbformat_minor": 2
}
