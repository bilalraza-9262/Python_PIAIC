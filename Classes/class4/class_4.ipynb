{
 "cells": [
  {
   "cell_type": "code",
   "execution_count": 23,
   "metadata": {},
   "outputs": [
    {
     "name": "stdout",
     "output_type": "stream",
     "text": [
      "False\n",
      "True\n",
      "4\n",
      "-4\n",
      "6\n",
      "3.141592653589793\n",
      "6.283185307179586\n",
      "bilal\n",
      "9\n",
      "0x18\n",
      "0b11000\n",
      "0o30\n",
      "48\n",
      "24\n",
      "20\n",
      "19\n",
      "9\n",
      "147375\n"
     ]
    }
   ],
   "source": [
    "import copy\n",
    "import math\n",
    "import random\n",
    "\n",
    "print(math.isclose(1.233, 1.24))\n",
    "print(math.isclose(1.233, 1.233000001))\n",
    "print(math.ceil(3.2))\n",
    "print(math.floor(-3.2))\n",
    "print(math.factorial(3))\n",
    "print(math.pi)\n",
    "print(math.tau)\n",
    "print(random.choice([\"bilal\", \"Hammad\"]))\n",
    "print(random.randint(2, 10))\n",
    "print(hex(24))\n",
    "print(bin(24))\n",
    "print(oct(24))\n",
    "print(0x30)  # 30(16) = (3* 16(1))+(0*16(0))\n",
    "print(0b11000)  # = (3* 16(1))+(0*16(0))\n",
    "print(0o24)\n",
    "print(int(\"23\", 8))\n",
    "print(int(\"1001\", 2))\n",
    "print(int(\"23faf\", 16))"
   ]
  },
  {
   "cell_type": "markdown",
   "metadata": {},
   "source": [
    "## Shallow Copy\n",
    "\n",
    "(Documentation)[https://www.programiz.com/python-programming/shallow-deep-copy]\n"
   ]
  },
  {
   "cell_type": "code",
   "execution_count": 2,
   "metadata": {},
   "outputs": [
    {
     "name": "stdout",
     "output_type": "stream",
     "text": [
      "2480511997952\n",
      "2480511881728\n",
      "['i', [5, 2]]\n",
      "['i', [5, 2]]\n",
      "2480511880448\n",
      "2480511880448\n"
     ]
    }
   ],
   "source": [
    "#  Shallow Copy\n",
    "# same value but generate different memory adress\n",
    "list1: list = [\"i\", [1, 2]]\n",
    "list2: list = copy.copy(list1)\n",
    "# list2[0] = \"b\"\n",
    "\t\n",
    "print(id(list1))\n",
    "print(id(list2))\n",
    "list2[1][0] = 5\n",
    "print(list1)\n",
    "print(list2)\n",
    "print(id(list1[1]))\n",
    "print(id(list2[1]))"
   ]
  },
  {
   "cell_type": "code",
   "execution_count": 3,
   "metadata": {},
   "outputs": [
    {
     "name": "stdout",
     "output_type": "stream",
     "text": [
      "2480512077440\n",
      "2480511881408\n",
      "['i', [1, 2]]\n",
      "['i', [5, 2]]\n",
      "2480511878144\n",
      "2480512002240\n"
     ]
    }
   ],
   "source": [
    "#  Deep Copy\n",
    "\n",
    "list1: list = [\"i\", [1, 2]]\n",
    "list2: list = copy.deepcopy(list1)\n",
    "# list2[0] = \"b\"\n",
    "\n",
    "print(id(list1))\n",
    "print(id(list2))\n",
    "list2[1][0] = 5\n",
    "print(list1)\n",
    "print(list2)\n",
    "print(id(list1[1]))\n",
    "print(id(list2[1]))"
   ]
  },
  {
   "cell_type": "markdown",
   "metadata": {},
   "source": [
    "# List in Python\n"
   ]
  },
  {
   "cell_type": "markdown",
   "metadata": {},
   "source": []
  },
  {
   "cell_type": "code",
   "execution_count": 5,
   "metadata": {},
   "outputs": [
    {
     "name": "stdout",
     "output_type": "stream",
     "text": [
      "['bilal', 'hammad']\n"
     ]
    }
   ],
   "source": [
    "list1: list = [\n",
    "    \"Teacher\",\n",
    "\t\"Student\",\n",
    "\t[\n",
    "\t\t\"bilal\",\n",
    "\t\t\"hammad\"\n",
    "    ]\n",
    "]\n",
    "print(list1[2][1])"
   ]
  },
  {
   "cell_type": "code",
   "execution_count": 7,
   "metadata": {},
   "outputs": [
    {
     "name": "stdout",
     "output_type": "stream",
     "text": [
      "[2, 5]\n",
      "[9, 6]\n"
     ]
    }
   ],
   "source": [
    "my_list = [1, 2, 3, 4, 5, 6, 7, 8, 9]\n",
    "# \t\t\t\t\t\t\t-3\t-2\t-1\n",
    "\n",
    "print(my_list[1:7:3])\n",
    "print(my_list[-1:-7:-3])\n",
    "\n",
    "# print(my_list[1:5:2])\n",
    "# print(my_list[-2:-6:-2])\n",
    "# my_list[0:2] = [\"bilal\"]\n",
    "# list = my_list[1:7:3]\n",
    "# print(list)\n",
    "# print(my_list[3])\n",
    "# print(my_list[1:7:3])\n",
    "# print(my_list[:])\n",
    "# print(my_list[2:-2])\n",
    "# print(my_list[-2:-6:-2])\n",
    "# print(my_list[-2:-6:-2])"
   ]
  },
  {
   "cell_type": "markdown",
   "metadata": {},
   "source": [
    "# METHODS IN LIST\n"
   ]
  },
  {
   "cell_type": "code",
   "execution_count": 33,
   "metadata": {},
   "outputs": [
    {
     "name": "stdout",
     "output_type": "stream",
     "text": [
      "['bilal', 'hammad', ['Huzair', 'Hanzala'], 'Fawad']\n",
      "True\n",
      "['bilal', 'hammad', ['Saim', 'Hanzala'], 'Fawad']\n",
      "['bilal', 'hammad', ['Saim', 'Hanzala'], 'Fawad']\n"
     ]
    }
   ],
   "source": [
    "\n",
    "std_data = [\"bilal\", \"hammad\", [\"Huzair\",\"Hanzala\"]]\n",
    "std_data.append(\"Fawad\")\n",
    "\n",
    "student = std_data.copy()\n",
    "\n",
    "print(student)\n",
    "\n",
    "student[2][0] = \"Saim\"\n",
    "print(student[2] is std_data[2])\n",
    "# print(student)\n",
    "# del std_data\n",
    "# std_data.clear()\n",
    "print(student)\n",
    "print(std_data)"
   ]
  },
  {
   "cell_type": "markdown",
   "metadata": {},
   "source": [
    "# Slicing of String\n"
   ]
  },
  {
   "cell_type": "code",
   "execution_count": 24,
   "metadata": {},
   "outputs": [],
   "source": [
    "char: str = \"012345678\""
   ]
  },
  {
   "cell_type": "code",
   "execution_count": 36,
   "metadata": {},
   "outputs": [
    {
     "name": "stdout",
     "output_type": "stream",
     "text": [
      "0\n",
      "024\n",
      "4567\n",
      "86\n"
     ]
    }
   ],
   "source": [
    "# char[0]=\"v\"  # Error\n",
    "print(char[0])\n",
    "char2 = char[0:5]\n",
    "print(char[0:5:2])\n",
    "print(char[-5:-1])\n",
    "print(char[-1:-5:-2])"
   ]
  },
  {
   "cell_type": "markdown",
   "metadata": {},
   "source": [
    "# METHOD IN LIST"
   ]
  },
  {
   "cell_type": "code",
   "execution_count": 16,
   "metadata": {},
   "outputs": [
    {
     "name": "stdout",
     "output_type": "stream",
     "text": [
      "[1, 2, 3, 7, 8, 9, 4, 5, 5]\n"
     ]
    }
   ],
   "source": [
    "users_list:list[str|int]=[1,2,3,6,7,8,9,4,5,5]\n",
    "# users_list[0:2] =[\"bilal\"]\n",
    "# list3=[\"bilal\",\"hammad\"]\n",
    "# users_list.append(list3)\n",
    "# users_list.append(10)\n",
    "# users_list.extend(list3)\n",
    "# users_list.reverse()\n",
    "# users_list.remove(4)\n",
    "users_list.pop(3)\n",
    "# users_list.insert(0,\"hamad\")\n",
    "# print(users_list.count(5))\n",
    "# print(users_list.index(10))\n",
    "# del users_list\n",
    "# users_list.clear()\n",
    "# users_list.sort()\n",
    "print(users_list)"
   ]
  },
  {
   "cell_type": "code",
   "execution_count": null,
   "metadata": {},
   "outputs": [],
   "source": []
  }
 ],
 "metadata": {
  "kernelspec": {
   "display_name": "python12",
   "language": "python",
   "name": "python3"
  },
  "language_info": {
   "codemirror_mode": {
    "name": "ipython",
    "version": 3
   },
   "file_extension": ".py",
   "mimetype": "text/x-python",
   "name": "python",
   "nbconvert_exporter": "python",
   "pygments_lexer": "ipython3",
   "version": "3.12.0"
  }
 },
 "nbformat": 4,
 "nbformat_minor": 2
}
