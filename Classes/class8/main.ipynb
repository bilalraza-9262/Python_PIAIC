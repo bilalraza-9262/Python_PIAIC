{
 "cells": [
  {
   "cell_type": "markdown",
   "metadata": {},
   "source": [
    "# Dictionary in Pyhton\n"
   ]
  },
  {
   "cell_type": "code",
   "execution_count": 15,
   "metadata": {},
   "outputs": [
    {
     "data": {
      "text/plain": [
       "'fawad'"
      ]
     },
     "execution_count": 15,
     "metadata": {},
     "output_type": "execute_result"
    }
   ],
   "source": [
    "user_details: dict[str, str] = {\n",
    "    # [\"name\"]:\"bilal\" error because of unhashable\n",
    "    # (1):\"Bilal\",\n",
    "    \"name\": \"fawad\",\n",
    "    \"course\": [\"web\", \"Ai\"],\n",
    "    \"isLoggedIn\": True\n",
    "}\n",
    "\n",
    "\n",
    "user_details[\"name\"]\n",
    "user_details[\"course\"][1]\n",
    "user_details[\"isLoggedIn\"]"
   ]
  },
  {
   "cell_type": "markdown",
   "metadata": {},
   "source": [
    "## Methods for dict\n"
   ]
  },
  {
   "cell_type": "code",
   "execution_count": 69,
   "metadata": {},
   "outputs": [
    {
     "name": "stdout",
     "output_type": "stream",
     "text": [
      "{'name': 'Bilal', 'course': ['web', 'Ai'], 'isLoggedIn': True}\n",
      "Not Found\n",
      "Items dict_items([('name', 'Bilal'), ('course', ['web', 'Ai']), ('isLoggedIn', True)])\n",
      "Keys dict_keys(['name', 'course', 'isLoggedIn'])\n",
      "Values dict_values(['Bilal', ['web', 'Ai'], True])\n",
      "Bilal\n",
      "None\n",
      "{'name': 'Hamza', 'course': ['web', 'Ai'], 'isLoggedIn': True, 'isActive': False}\n"
     ]
    }
   ],
   "source": [
    "user_details: dict[str, str] = {\n",
    "    # [\"name\"]:\"bilal\" error because of unhashable\n",
    "    # (1):\"Bilal\",\n",
    "    \"name\": \"fawad\",\n",
    "    \"course\": [\"web\", \"Ai\"],\n",
    "    \"isLoggedIn\": True,\n",
    "    \"name\": \"Bilal\",\n",
    "}\n",
    "print(user_details)\n",
    "print(user_details.get(\"nam\", \"Not Found\"))\n",
    "print(\"Items\", user_details.items())\n",
    "print(\"Keys\", user_details.keys())\n",
    "print(\"Values\", user_details.values())\n",
    "# user_details.pop(\"name\")\n",
    "# user_details.popitem()\n",
    "print(user_details.setdefault(\"name\"))\n",
    "print(user_details.update({\"name\": \"Hamza\", \"isActive\": False}))\n",
    "print(user_details)"
   ]
  },
  {
   "cell_type": "code",
   "execution_count": 8,
   "metadata": {},
   "outputs": [
    {
     "name": "stdout",
     "output_type": "stream",
     "text": [
      "Before Addition dict_keys(['name', 'age', 'education', 'courses'])\n",
      "After Addition {'name': 'hammad', 'age': None, 'education': None, 'courses': None}\n"
     ]
    }
   ],
   "source": [
    "std_details = dict.fromkeys([\"name\", \"age\", \"education\", \"courses\"])\n",
    "print(\"Before Addition\", std_details.keys())\n",
    "std_details[\"name\"]=\"hammad\"\n",
    "print(\"After Addition\", std_details)"
   ]
  },
  {
   "cell_type": "code",
   "execution_count": 26,
   "metadata": {},
   "outputs": [
    {
     "name": "stdout",
     "output_type": "stream",
     "text": [
      "20\n"
     ]
    }
   ],
   "source": [
    "userName, age = (\"fawad\", 20)\n",
    "print(age)"
   ]
  },
  {
   "cell_type": "markdown",
   "metadata": {},
   "source": [
    "# Unzip in python\n"
   ]
  },
  {
   "cell_type": "code",
   "execution_count": 29,
   "metadata": {},
   "outputs": [
    {
     "name": "stdout",
     "output_type": "stream",
     "text": [
      "name: fawad\n",
      "course: ['web', 'Ai']\n",
      "isLoggedIn: True\n"
     ]
    }
   ],
   "source": [
    "for key, val in user_details.items():\n",
    "    print(f\"{key}: {val}\")"
   ]
  },
  {
   "cell_type": "markdown",
   "metadata": {},
   "source": [
    "# Zip in python\n"
   ]
  },
  {
   "cell_type": "code",
   "execution_count": 34,
   "metadata": {},
   "outputs": [
    {
     "data": {
      "text/plain": [
       "[('bilal', 12), ('fawad', 13), ('hammad', 15)]"
      ]
     },
     "execution_count": 34,
     "metadata": {},
     "output_type": "execute_result"
    }
   ],
   "source": [
    "user_name = [\"bilal\", \"fawad\", \"hammad\"]\n",
    "user_age = [12, 13, 15]\n",
    "list(zip(user_name, user_age))"
   ]
  },
  {
   "cell_type": "code",
   "execution_count": 35,
   "metadata": {},
   "outputs": [
    {
     "name": "stdout",
     "output_type": "stream",
     "text": [
      "Name:bilal, age: 12\n",
      "Name:fawad, age: 13\n",
      "Name:hammad, age: 15\n"
     ]
    }
   ],
   "source": [
    "for name, age in zip(user_name, user_age):\n",
    "    print(f\"Name:{name}, age: {age}\")"
   ]
  },
  {
   "cell_type": "code",
   "execution_count": 9,
   "metadata": {},
   "outputs": [
    {
     "name": "stdout",
     "output_type": "stream",
     "text": [
      "h\n",
      "a\n",
      "m is not valid\n",
      "m is not valid\n",
      "a\n",
      "d\n",
      "bilal\n"
     ]
    }
   ],
   "source": [
    "my_list=\"hammad\"\n",
    "for chr in my_list:\n",
    "\tif chr==\"m\":\n",
    "\t\tprint(\"m is not valid\")\n",
    "\t\tcontinue\n",
    "\tprint(chr)\n",
    "\n",
    "print(\"bilal\")\n"
   ]
  },
  {
   "cell_type": "code",
   "execution_count": null,
   "metadata": {},
   "outputs": [],
   "source": []
  }
 ],
 "metadata": {
  "kernelspec": {
   "display_name": "python12",
   "language": "python",
   "name": "python3"
  },
  "language_info": {
   "codemirror_mode": {
    "name": "ipython",
    "version": 3
   },
   "file_extension": ".py",
   "mimetype": "text/x-python",
   "name": "python",
   "nbconvert_exporter": "python",
   "pygments_lexer": "ipython3",
   "version": "3.12.0"
  }
 },
 "nbformat": 4,
 "nbformat_minor": 2
}
