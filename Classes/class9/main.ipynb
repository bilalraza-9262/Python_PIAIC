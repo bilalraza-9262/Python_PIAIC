{
 "cells": [
  {
   "cell_type": "code",
   "execution_count": 6,
   "metadata": {},
   "outputs": [
    {
     "name": "stdout",
     "output_type": "stream",
     "text": [
      "5\n",
      "6\n"
     ]
    }
   ],
   "source": [
    "def add(num):\n",
    "    print(2+num)\n",
    "\n",
    "\n",
    "add(3)\n",
    "add(4)"
   ]
  },
  {
   "cell_type": "code",
   "execution_count": 8,
   "metadata": {},
   "outputs": [
    {
     "name": "stdout",
     "output_type": "stream",
     "text": [
      "False\n"
     ]
    }
   ],
   "source": [
    "users_list = (\"hammad\", \"bilal\", \"hamza\", \"fawad\")\n",
    "\n",
    "\n",
    "def loggedIn(users: str):\n",
    "    if users in users_list:\n",
    "        print(\"True\")\n",
    "    else:\n",
    "        print(\"False\")\n",
    "\n",
    "\n",
    "loggedIn(\"hamm\")"
   ]
  },
  {
   "cell_type": "markdown",
   "metadata": {},
   "source": [
    "# POSITIONAL PARAMETERS\n"
   ]
  },
  {
   "cell_type": "code",
   "execution_count": 12,
   "metadata": {},
   "outputs": [
    {
     "name": "stdout",
     "output_type": "stream",
     "text": [
      "False\n"
     ]
    }
   ],
   "source": [
    "users_list = (\"hammad\", \"bilal\", \"hamza\", \"fawad\")\n",
    "\n",
    "Param = str\n",
    "\n",
    "\n",
    "def loggedIn(users: Param, password: str):\n",
    "    print(\"True\") if users in users_list else print(\"False\")\n",
    "\n",
    "\n",
    "loggedIn(\"14!@#\", \"hammad\")"
   ]
  },
  {
   "cell_type": "markdown",
   "metadata": {},
   "source": [
    "# KEYWORD PARAMETER\n"
   ]
  },
  {
   "cell_type": "code",
   "execution_count": 13,
   "metadata": {},
   "outputs": [
    {
     "name": "stdout",
     "output_type": "stream",
     "text": [
      "True\n"
     ]
    }
   ],
   "source": [
    "users_list = (\"hammad\", \"bilal\", \"hamza\", \"fawad\")\n",
    "\n",
    "\n",
    "def loggedIn(users: str, password: str, age: int):\n",
    "    print(\"True\") if users in users_list else print(\"False\")\n",
    "\n",
    "\n",
    "loggedIn(password=\"14!@#\", age=12, users=\"hammad\")"
   ]
  },
  {
   "cell_type": "markdown",
   "metadata": {},
   "source": [
    "# Optional Parameters\n"
   ]
  },
  {
   "cell_type": "code",
   "execution_count": 2,
   "metadata": {},
   "outputs": [
    {
     "name": "stdout",
     "output_type": "stream",
     "text": [
      "\n",
      "Name:Python\n",
      "URL:https://youtube.com/watch?v\n",
      "Status:private\n",
      "\n"
     ]
    }
   ],
   "source": [
    "def v_model(name: str, url: str, status: str = \"public\"):\n",
    "    print(f\"\"\"\n",
    "Name:{name}\n",
    "URL:{url}\n",
    "Status:{status}\n",
    "\"\"\")\n",
    "\n",
    "\n",
    "v_model(\"Python\", \"https://youtube.com/watch?v\", \"private\")"
   ]
  },
  {
   "cell_type": "markdown",
   "metadata": {},
   "source": [
    "# ARBITRARY ARGUMENTS\n"
   ]
  },
  {
   "cell_type": "code",
   "execution_count": 3,
   "metadata": {},
   "outputs": [
    {
     "name": "stdout",
     "output_type": "stream",
     "text": [
      "('bilal', 'hammad', 'hamza', ['fawad', 'huzair'])\n"
     ]
    }
   ],
   "source": [
    "def users_names(*names: tuple[str | list]):\n",
    "    print(names)\n",
    "\n",
    "\n",
    "users_names(\"bilal\", \"hammad\", \"hamza\", [\"fawad\", \"huzair\"])"
   ]
  },
  {
   "cell_type": "code",
   "execution_count": 9,
   "metadata": {},
   "outputs": [
    {
     "name": "stdout",
     "output_type": "stream",
     "text": [
      "\n",
      "Name: bila\n",
      "Age:12\n",
      "courses: ('web', 'ai')\n"
     ]
    }
   ],
   "source": [
    "# def users_names(name,*age,*courses): only one * is allowed\n",
    "# \t# print(names)\n",
    "# \tprint(f\"\"\"\n",
    "# Name: {name}\n",
    "# Age:{age}\n",
    "# courses: {courses}\"\"\")\n",
    "\n",
    "# users_names(\"bilal\",12,\"web\",\"ai\")"
   ]
  },
  {
   "cell_type": "code",
   "execution_count": 10,
   "metadata": {},
   "outputs": [
    {
     "name": "stdout",
     "output_type": "stream",
     "text": [
      "\n",
      "Name: bilal\n",
      "Age:12\n",
      "courses: ('web', 'ai')\n"
     ]
    }
   ],
   "source": [
    "def users_names(name, *courses, age):\n",
    "    # print(names)\n",
    "    print(f\"\"\"\n",
    "Name: {name}\n",
    "Age:{age}\n",
    "courses: {courses}\"\"\")\n",
    "\n",
    "\n",
    "users_names(\"bilal\", 12, \"web\", \"ai\", age=13)"
   ]
  },
  {
   "cell_type": "markdown",
   "metadata": {},
   "source": [
    "# KEYWORD ARGUMENTS\n"
   ]
  },
  {
   "cell_type": "markdown",
   "metadata": {},
   "source": []
  },
  {
   "cell_type": "code",
   "execution_count": 16,
   "metadata": {},
   "outputs": [
    {
     "name": "stdout",
     "output_type": "stream",
     "text": [
      "{'webPrice': 200, 'aiPrice': 400, 'csPrice': 100}\n",
      "Bilal\n"
     ]
    }
   ],
   "source": [
    "def students(std_name: str, **courses_price: int):\n",
    "    print(courses_price)\n",
    "    print(std_name)\n",
    "\n",
    "\n",
    "students(\"Bilal\", webPrice=200, aiPrice=400, csPrice=100)"
   ]
  },
  {
   "cell_type": "code",
   "execution_count": 25,
   "metadata": {},
   "outputs": [
    {
     "name": "stdout",
     "output_type": "stream",
     "text": [
      "Key: webPrice, Value: 200\n",
      "Key: aiPrice, Value: 400\n",
      "Key: csPrice, Value: 100\n",
      "User Name:  bilal\n",
      "Key: webPrice, Value: 200\n",
      "Key: aiPrice, Value: 400\n",
      "Key: csPrice, Value: 100\n",
      "User Name:  ahsaan\n",
      "Key: webPrice, Value: 200\n",
      "Key: aiPrice, Value: 400\n",
      "Key: csPrice, Value: 100\n",
      "User Name:  fawad\n"
     ]
    }
   ],
   "source": [
    "Key = str\n",
    "Value = int\n",
    "\n",
    "\n",
    "def std_management(*names, **courses_price: int):\n",
    "    for item in names:\n",
    "        for key, val in courses_price.items():\n",
    "            print(f\"Key: {key}, Value: {val}\")\n",
    "        print(\"User Name: \", item)\n",
    "\n",
    "\n",
    "std_management(\"bilal\", \"ahsaan\", \"fawad\",\n",
    "               webPrice=200, aiPrice=400, csPrice=100,)"
   ]
  },
  {
   "cell_type": "code",
   "execution_count": 26,
   "metadata": {},
   "outputs": [
    {
     "name": "stdout",
     "output_type": "stream",
     "text": [
      "Karachi information is\n",
      "\n",
      "country : Pakistan\n",
      "\n",
      "population : 14.91 million\n",
      "\n",
      "fact : Karachi is the largest city of Pakistan\n",
      "\n",
      "Istanbul information is\n",
      "\n",
      "country : Turkey\n",
      "\n",
      "population : 15.07 million\n",
      "\n",
      "fact : Istanbul is the largest city of Turkey\n",
      "\n",
      "Madina information is\n",
      "\n",
      "country : Saudi Arabia\n",
      "\n",
      "population : 1.1 million\n",
      "\n",
      "fact : Madina is the second holiest city of Islam\n",
      "\n"
     ]
    }
   ],
   "source": [
    "from typing import Union\n",
    "key2 = str\n",
    "value2 = dict[str, Union[str, int, list, tuple, dict]]\n",
    "cities: dict[key2, value2] = {\n",
    "    \"Karachi\": {\n",
    "        \"country\": \"Pakistan\",\n",
    "        \"population\": \"14.91 million\",\n",
    "        \"fact\": \"Karachi is the largest city of Pakistan\",\n",
    "    },\n",
    "    \"Istanbul\": {\n",
    "        \"country\": \"Turkey\",\n",
    "        \"population\": \"15.07 million\",\n",
    "        \"fact\": \"Istanbul is the largest city of Turkey\",\n",
    "    },\n",
    "    \"Madina\": {\n",
    "        \"country\": \"Saudi Arabia\",\n",
    "        \"population\": \"1.1 million\",\n",
    "        \"fact\": \"Madina is the second holiest city of Islam\",\n",
    "    },\n",
    "}\n",
    "\n",
    "for city, info in cities.items():\n",
    "    print(f\"{city} information is\\n\")\n",
    "    for key, value in info.items():\n",
    "        print(f\"{key} : {value}\\n\")"
   ]
  },
  {
   "cell_type": "code",
   "execution_count": 6,
   "metadata": {},
   "outputs": [
    {
     "name": "stdout",
     "output_type": "stream",
     "text": [
      "5\n"
     ]
    },
    {
     "data": {
      "text/plain": [
       "['__annotations__',\n",
       " '__builtins__',\n",
       " '__call__',\n",
       " '__class__',\n",
       " '__closure__',\n",
       " '__code__',\n",
       " '__defaults__',\n",
       " '__delattr__',\n",
       " '__dict__',\n",
       " '__dir__',\n",
       " '__doc__',\n",
       " '__eq__',\n",
       " '__format__',\n",
       " '__ge__',\n",
       " '__get__',\n",
       " '__getattribute__',\n",
       " '__getstate__',\n",
       " '__globals__',\n",
       " '__gt__',\n",
       " '__hash__',\n",
       " '__init__',\n",
       " '__init_subclass__',\n",
       " '__kwdefaults__',\n",
       " '__le__',\n",
       " '__lt__',\n",
       " '__module__',\n",
       " '__name__',\n",
       " '__ne__',\n",
       " '__new__',\n",
       " '__qualname__',\n",
       " '__reduce__',\n",
       " '__reduce_ex__',\n",
       " '__repr__',\n",
       " '__setattr__',\n",
       " '__sizeof__',\n",
       " '__str__',\n",
       " '__subclasshook__',\n",
       " '__type_params__']"
      ]
     },
     "execution_count": 6,
     "metadata": {},
     "output_type": "execute_result"
    }
   ],
   "source": [
    "def count1(num: int):\n",
    "    return num+1\n",
    "\n",
    "\n",
    "counter = count1(4)\n",
    "print(counter)\n",
    "dir(count1)"
   ]
  },
  {
   "cell_type": "markdown",
   "metadata": {},
   "source": [
    "## DOC STRING\n"
   ]
  },
  {
   "cell_type": "code",
   "execution_count": 5,
   "metadata": {},
   "outputs": [
    {
     "data": {
      "text/plain": [
       "'This function return sum of two number'"
      ]
     },
     "execution_count": 5,
     "metadata": {},
     "output_type": "execute_result"
    }
   ],
   "source": [
    "def add(num1: int, num2: int) -> int:\n",
    "    \"This function return sum of two number\"\n",
    "    return num1+num2\n",
    "\n",
    "\n",
    "dir(\"b\")\n",
    "add.__doc__"
   ]
  },
  {
   "cell_type": "markdown",
   "metadata": {},
   "source": [
    "## LAMBDA FUNCTION\n"
   ]
  },
  {
   "cell_type": "code",
   "execution_count": 11,
   "metadata": {},
   "outputs": [
    {
     "data": {
      "text/plain": [
       "5"
      ]
     },
     "execution_count": 11,
     "metadata": {},
     "output_type": "execute_result"
    }
   ],
   "source": [
    "from typing import Callable\n",
    "add: Callable[[int], int] = lambda x: x+2\n",
    "\n",
    "add(3)"
   ]
  },
  {
   "cell_type": "code",
   "execution_count": 6,
   "metadata": {},
   "outputs": [
    {
     "data": {
      "text/plain": [
       "['bilal']"
      ]
     },
     "execution_count": 6,
     "metadata": {},
     "output_type": "execute_result"
    }
   ],
   "source": [
    "from typing import Callable\n",
    "users = []\n",
    "user_add: Callable[[str, str], str] = lambda user, age: user\n",
    "user_add(\"bilal\", \"12\")\n",
    "users"
   ]
  },
  {
   "cell_type": "code",
   "execution_count": 10,
   "metadata": {},
   "outputs": [
    {
     "data": {
      "text/plain": [
       "[2, 3, 4, 5, 6, 7, 8]"
      ]
     },
     "execution_count": 10,
     "metadata": {},
     "output_type": "execute_result"
    }
   ],
   "source": [
    "list1 = [1, 2, 3, 4, 5, 6, 7]\n",
    "list2 = map(lambda x: x+1, [1, 2, 3, 4, 5, 6, 7])\n",
    "list(list2)"
   ]
  },
  {
   "cell_type": "code",
   "execution_count": 12,
   "metadata": {},
   "outputs": [
    {
     "data": {
      "text/plain": [
       "[6, 7]"
      ]
     },
     "execution_count": 12,
     "metadata": {},
     "output_type": "execute_result"
    }
   ],
   "source": [
    "list1 = [1, 2, 3, 4, 5, 6, 7]\n",
    "list2 = filter(lambda\n",
    "               x:\n",
    "               x > 5, [1, 2, 3, 4, 5, 6, 7])\n",
    "list(list2)"
   ]
  },
  {
   "cell_type": "markdown",
   "metadata": {},
   "source": [
    "# FUNCTION WITH IN FUNCTION\n"
   ]
  },
  {
   "cell_type": "code",
   "execution_count": 40,
   "metadata": {},
   "outputs": [
    {
     "name": "stdout",
     "output_type": "stream",
     "text": [
      "5\n"
     ]
    }
   ],
   "source": [
    "users = []\n",
    "\n",
    "\n",
    "def std_management(user):\n",
    "    count2 = 3\n",
    "\n",
    "    def user_adder():\n",
    "        nonlocal count2\n",
    "        count2 += 2\n",
    "        users.append(user)\n",
    "    user_adder()\n",
    "    print(count2)\n",
    "\n",
    "\n",
    "std_management(\"bilal\")"
   ]
  },
  {
   "cell_type": "markdown",
   "metadata": {},
   "source": [
    "# CLOUSURES\n"
   ]
  },
  {
   "cell_type": "code",
   "execution_count": 45,
   "metadata": {},
   "outputs": [
    {
     "name": "stdout",
     "output_type": "stream",
     "text": [
      "12\n"
     ]
    }
   ],
   "source": [
    "def multiply(integer):\n",
    "    num1 = 3\n",
    "    num1 += 1\n",
    "\n",
    "    def add():\n",
    "        print(num1*integer)\n",
    "    return add\n",
    "\n",
    "\n",
    "r_func = multiply(3)\n",
    "r_func()"
   ]
  },
  {
   "cell_type": "code",
   "execution_count": 15,
   "metadata": {},
   "outputs": [
    {
     "name": "stdout",
     "output_type": "stream",
     "text": [
      "DB Connect\n",
      "['hammad']\n"
     ]
    }
   ],
   "source": [
    "list_user = []\n",
    "\n",
    "\n",
    "def db_connection(user: str):\n",
    "    print(\"DB Connect\")\n",
    "\n",
    "    def user_connect():\n",
    "        list_user.append(user)\n",
    "        print(list_user)\n",
    "\t\t\n",
    "    return user_connect\n",
    "\n",
    "\n",
    "\n",
    "re_func = db_connection(\"hammad\")\n",
    "re_func()"
   ]
  },
  {
   "cell_type": "markdown",
   "metadata": {},
   "source": [
    "# RECURSIVE IN PYTHON\n"
   ]
  },
  {
   "cell_type": "code",
   "execution_count": 16,
   "metadata": {},
   "outputs": [
    {
     "name": "stdout",
     "output_type": "stream",
     "text": [
      "you have entered a correct number 3\n"
     ]
    }
   ],
   "source": [
    "import random\n",
    "\n",
    "\n",
    "def calculator():\n",
    "    user_input = int(input(\"Enter a number between 0 to 5\"))\n",
    "    random_int = random.randint(0, 5)\n",
    "    if (user_input == random_int):\n",
    "        print(f\"you have entered a correct number {user_input}\")\n",
    "    else:\n",
    "        calculator()\n",
    "\n",
    "\n",
    "calculator()"
   ]
  },
  {
   "cell_type": "code",
   "execution_count": 50,
   "metadata": {},
   "outputs": [
    {
     "data": {
      "text/plain": [
       "5040"
      ]
     },
     "execution_count": 50,
     "metadata": {},
     "output_type": "execute_result"
    }
   ],
   "source": [
    "def fact_value(num1):\n",
    "    if num1 == 1:\n",
    "        return 1\n",
    "    else:\n",
    "        return num1 * fact_value(num1-1)\n",
    "\n",
    "\n",
    "fact_value(7)"
   ]
  },
  {
   "cell_type": "code",
   "execution_count": 65,
   "metadata": {},
   "outputs": [
    {
     "name": "stdout",
     "output_type": "stream",
     "text": [
      "1\n",
      "2\n",
      "3\n",
      "4\n",
      "5\n",
      "6\n"
     ]
    },
    {
     "ename": "StopIteration",
     "evalue": "",
     "output_type": "error",
     "traceback": [
      "\u001b[1;31m---------------------------------------------------------------------------\u001b[0m",
      "\u001b[1;31mStopIteration\u001b[0m                             Traceback (most recent call last)",
      "Cell \u001b[1;32mIn[65], line 9\u001b[0m\n\u001b[0;32m      7\u001b[0m \u001b[38;5;28mprint\u001b[39m(\u001b[38;5;28mnext\u001b[39m(iter_gen))\n\u001b[0;32m      8\u001b[0m \u001b[38;5;28mprint\u001b[39m(\u001b[38;5;28mnext\u001b[39m(iter_gen))\n\u001b[1;32m----> 9\u001b[0m \u001b[38;5;28mprint\u001b[39m(\u001b[38;5;28;43mnext\u001b[39;49m\u001b[43m(\u001b[49m\u001b[43miter_gen\u001b[49m\u001b[43m)\u001b[49m)\n",
      "\u001b[1;31mStopIteration\u001b[0m: "
     ]
    }
   ],
   "source": [
    "my_list = [1, 2, 3, 4, 5, 6]\n",
    "iter_gen = my_list.__iter__()\n",
    "print(next(iter_gen))\n",
    "print(next(iter_gen))\n",
    "print(next(iter_gen))\n",
    "print(next(iter_gen))\n",
    "print(next(iter_gen))\n",
    "print(next(iter_gen))\n",
    "print(next(iter_gen))"
   ]
  },
  {
   "cell_type": "markdown",
   "metadata": {},
   "source": [
    "# GENERATOR IN PYTHON\n",
    "\n",
    "[Generator](https://realpython.com/introduction-to-python-generators/)\n"
   ]
  },
  {
   "cell_type": "code",
   "execution_count": 8,
   "metadata": {},
   "outputs": [
    {
     "data": {
      "text/plain": [
       "1"
      ]
     },
     "execution_count": 8,
     "metadata": {},
     "output_type": "execute_result"
    }
   ],
   "source": [
    "from typing import Generator, Any\n",
    "\n",
    "\n",
    "def users_list() -> Generator[int, Any, None]:\n",
    "    for num in [1, 2, 3, 4, 5]:\n",
    "        yield num\n",
    "\n",
    "\n",
    "users: Generator[int, Any, None] = users_list()\n",
    "next(users)"
   ]
  },
  {
   "cell_type": "code",
   "execution_count": 9,
   "metadata": {},
   "outputs": [
    {
     "data": {
      "text/plain": [
       "2"
      ]
     },
     "execution_count": 9,
     "metadata": {},
     "output_type": "execute_result"
    }
   ],
   "source": [
    "next(users)"
   ]
  },
  {
   "cell_type": "code",
   "execution_count": 13,
   "metadata": {},
   "outputs": [
    {
     "ename": "StopIteration",
     "evalue": "",
     "output_type": "error",
     "traceback": [
      "\u001b[1;31m---------------------------------------------------------------------------\u001b[0m",
      "\u001b[1;31mStopIteration\u001b[0m                             Traceback (most recent call last)",
      "Cell \u001b[1;32mIn[13], line 1\u001b[0m\n\u001b[1;32m----> 1\u001b[0m \u001b[38;5;28;43mnext\u001b[39;49m\u001b[43m(\u001b[49m\u001b[43musers\u001b[49m\u001b[43m)\u001b[49m\n",
      "\u001b[1;31mStopIteration\u001b[0m: "
     ]
    }
   ],
   "source": [
    "next(users)"
   ]
  },
  {
   "cell_type": "markdown",
   "metadata": {},
   "source": [
    "## HIGHER ORDER FUNCTION (HOF)\n"
   ]
  },
  {
   "cell_type": "code",
   "execution_count": 83,
   "metadata": {},
   "outputs": [
    {
     "name": "stdout",
     "output_type": "stream",
     "text": [
      "before calling function\n",
      "calling Function\n"
     ]
    }
   ],
   "source": [
    "def numbers_add():\n",
    "    print(f\"You have logged in from this user email\")\n",
    "\n",
    "\n",
    "def loggedIn_sys(func: Callable):\n",
    "    print(\"before calling function\")\n",
    "    func()\n",
    "\n",
    "\n",
    "loggedIn_sys(numbers_add)"
   ]
  },
  {
   "cell_type": "code",
   "execution_count": 93,
   "metadata": {},
   "outputs": [
    {
     "name": "stdout",
     "output_type": "stream",
     "text": [
      "You have logged in from this h123 id\n"
     ]
    }
   ],
   "source": [
    "users = [{\"userName\": \"bilal\", \"userId\": \"b123\"},\n",
    "         {\"userName\": \"hammad\", \"userId\": \"h123\"}]\n",
    "\n",
    "\n",
    "def popup(userId):\n",
    "    print(f\"You have logged in from this {userId} id\")\n",
    "\n",
    "\n",
    "def logger(func: Callable, user_id):\n",
    "    for user in users:\n",
    "        if user[\"userId\"] == user_id:\n",
    "            func(user_id)\n",
    "            break\n",
    "    else:\n",
    "        print(\"Invalid user id\")\n",
    "\n",
    "\n",
    "logger(popup, \"h123\")"
   ]
  },
  {
   "cell_type": "markdown",
   "metadata": {},
   "source": [
    "# DECORATORS IN PYTHON\n"
   ]
  },
  {
   "cell_type": "code",
   "execution_count": 98,
   "metadata": {},
   "outputs": [
    {
     "name": "stdout",
     "output_type": "stream",
     "text": [
      "bilal\n"
     ]
    }
   ],
   "source": [
    "def text_upper(func):\n",
    "    def wrapper():\n",
    "        print(func().upper())\n",
    "    return wrapper\n",
    "\n",
    "\n",
    "@text_upper\n",
    "def userName():\n",
    "    return \"bilal\"\n",
    "\n",
    "\n",
    "userName()"
   ]
  },
  {
   "cell_type": "code",
   "execution_count": 102,
   "metadata": {},
   "outputs": [
    {
     "data": {
      "text/plain": [
       "'BILAL'"
      ]
     },
     "execution_count": 102,
     "metadata": {},
     "output_type": "execute_result"
    }
   ],
   "source": [
    "def text_upper(func: Callable[[str], str]) -> Callable[[str], str]:\n",
    "    def wrapper(userName: str) -> str:\n",
    "        name_upper = func(userName).upper()\n",
    "        return name_upper\n",
    "    return wrapper\n",
    "\n",
    "\n",
    "@text_upper\n",
    "def userName(name: str) -> str:\n",
    "    return name\n",
    "\n",
    "\n",
    "userName(\"bilal\")"
   ]
  },
  {
   "cell_type": "markdown",
   "metadata": {},
   "source": []
  }
 ],
 "metadata": {
  "kernelspec": {
   "display_name": "python12",
   "language": "python",
   "name": "python3"
  },
  "language_info": {
   "codemirror_mode": {
    "name": "ipython",
    "version": 3
   },
   "file_extension": ".py",
   "mimetype": "text/x-python",
   "name": "python",
   "nbconvert_exporter": "python",
   "pygments_lexer": "ipython3",
   "version": "3.12.0"
  }
 },
 "nbformat": 4,
 "nbformat_minor": 2
}
